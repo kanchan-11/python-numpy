{
 "cells": [
  {
   "cell_type": "code",
   "execution_count": 61,
   "metadata": {},
   "outputs": [
    {
     "name": "stdout",
     "output_type": "stream",
     "text": [
      "hello didi\n",
      "weight in pounDs is :  115.55555555555556\n"
     ]
    }
   ],
   "source": [
    "print(\"hello didi\")\n",
    "# name = input(\"enter your name\")\n",
    "# print(name.replace('b','h'))\n",
    "# first = int(input(\"first no. \"))\n",
    "# second = float(input(\"second no. \"))\n",
    "# print(\"sum: \",(first+second))\n",
    "weight = int(input(\"weight : \"))\n",
    "char = input(\"(k)kilograms or (l)pounds\")\n",
    "if char=='k' or char=='K':\n",
    "    new_weight = weight /0.45\n",
    "    print(\"weight in pounDs is : \",new_weight)\n",
    "elif char=='l' or char=='L':\n",
    "    new_weight = weight * 0.45\n",
    "    print(\"weight in kilogram is :\", new_weight)\n",
    "else:\n",
    "    print(\"invalid input\")"
   ]
  },
  {
   "cell_type": "code",
   "execution_count": null,
   "metadata": {},
   "outputs": [],
   "source": [
    "import numpy as np\n",
    "# help(np.array)\n",
    "b = np.array([1,3,4,5,6])\n",
    "print (b)\n",
    "c = np.array([[1,2],[3,4]])\n",
    "print (c)\n",
    "d = np.array([1,2,3],\"complex\")\n",
    "print (d)\n",
    "e = np.array((1,2,3,4))\n",
    "print (e)"
   ]
  },
  {
   "cell_type": "code",
   "execution_count": 63,
   "metadata": {},
   "outputs": [
    {
     "name": "stdout",
     "output_type": "stream",
     "text": [
      "[1 2 3 4 5 6 7 8]\n",
      "[0. 1. 2. 3. 4.]\n",
      "[1 3 5 7]\n",
      "[ 0.+0.j  1.+0.j  2.+0.j  3.+0.j  4.+0.j  5.+0.j  6.+0.j  7.+0.j  8.+0.j\n",
      "  9.+0.j 10.+0.j]\n"
     ]
    }
   ],
   "source": [
    "import numpy as np\n",
    "# help(np.arange)\n",
    "a = np.arange(1,9)\n",
    "print (a)\n",
    "b = np.arange(5.0)\n",
    "print (b)\n",
    "c = np.arange(1,9,2)\n",
    "print (c)\n",
    "d = np.arange(10.7,dtype=\"complex\")\n",
    "print (d)"
   ]
  },
  {
   "cell_type": "code",
   "execution_count": 64,
   "metadata": {},
   "outputs": [
    {
     "name": "stdout",
     "output_type": "stream",
     "text": [
      "[0. 0. 0. 0. 0.]\n",
      "[0 0 0 0]\n",
      "[[0. 0. 0.]\n",
      " [0. 0. 0.]]\n",
      "[[0. 0. 0.]\n",
      " [0. 0. 0.]]\n",
      "\n",
      "[1. 1. 1. 1. 1.]\n",
      "[1 1 1 1]\n",
      "[[1. 1. 1.]\n",
      " [1. 1. 1.]]\n",
      "[[1. 1. 1.]\n",
      " [1. 1. 1.]]\n",
      "\n",
      "[1. 1. 1. 1. 1.]\n",
      "[4.24399158e-314 8.48798317e-314 1.27319747e-313 1.69759663e-313]\n",
      "[[1. 1. 1.]\n",
      " [1. 1. 1.]]\n",
      "[[1. 1. 1.]\n",
      " [1. 1. 1.]]\n"
     ]
    }
   ],
   "source": [
    "import numpy as np\n",
    "# help(np.zeros)\n",
    "a = np.zeros(5)\n",
    "print(a)\n",
    "b = np.zeros(4,dtype=\"int\")\n",
    "print(b)\n",
    "c = np.zeros((2,3))\n",
    "print(c)\n",
    "d = np.zeros([2,3])\n",
    "print(d)\n",
    "print()\n",
    "#help(np.ones)\n",
    "a = np.ones(5)\n",
    "print(a)\n",
    "b = np.ones(4,dtype=\"int\")\n",
    "print(b)\n",
    "c = np.ones((2,3))\n",
    "print(c)\n",
    "d = np.ones([2,3])\n",
    "print(d)\n",
    "print()\n",
    "#help(np.empty)\n",
    "a = np.empty(5)\n",
    "print(a)\n",
    "b = np.empty(4,dtype=\"float\")\n",
    "print(b)\n",
    "c = np.empty((2,3))\n",
    "print(c)\n",
    "d = np.empty([2,3])\n",
    "print(d)"
   ]
  },
  {
   "cell_type": "code",
   "execution_count": 65,
   "metadata": {},
   "outputs": [
    {
     "name": "stdout",
     "output_type": "stream",
     "text": [
      "[[1. 0. 0. 0.]\n",
      " [0. 1. 0. 0.]\n",
      " [0. 0. 1. 0.]\n",
      " [0. 0. 0. 1.]]\n",
      "[[1. 0. 0. 0.]\n",
      " [0. 1. 0. 0.]\n",
      " [0. 0. 1. 0.]]\n",
      "[[0. 1. 0. 0. 0.]\n",
      " [0. 0. 1. 0. 0.]\n",
      " [0. 0. 0. 1. 0.]\n",
      " [0. 0. 0. 0. 1.]\n",
      " [0. 0. 0. 0. 0.]]\n",
      "[[0. 0. 0. 0. 0.]\n",
      " [1. 0. 0. 0. 0.]\n",
      " [0. 1. 0. 0. 0.]\n",
      " [0. 0. 1. 0. 0.]\n",
      " [0. 0. 0. 1. 0.]]\n",
      "[[False False  True False False]\n",
      " [False False False  True False]\n",
      " [False False False False  True]\n",
      " [False False False False False]\n",
      " [False False False False False]]\n",
      "\n",
      "[[1. 0. 0.]\n",
      " [0. 1. 0.]\n",
      " [0. 0. 1.]]\n",
      "[[ True False False]\n",
      " [False  True False]\n",
      " [False False  True]]\n"
     ]
    }
   ],
   "source": [
    "import numpy as np\n",
    "# help(np.eye)\n",
    "a = np.eye(4)\n",
    "print(a)\n",
    "# b = np.empty(4,dtype=\"float\")\n",
    "# print(b)\n",
    "c = np.eye(3,4)\n",
    "print(c)\n",
    "d = np.eye(5,k=1)\n",
    "print(d)\n",
    "d = np.eye(5,k=-1)\n",
    "print(d)\n",
    "d = np.eye(5,k=2,dtype=\"bool\")\n",
    "print(d)\n",
    "print()\n",
    "# help(np.identity)\n",
    "a = np.identity(3)\n",
    "print (a)\n",
    "b = np.identity(3, dtype=\"bool\")\n",
    "print(b)"
   ]
  },
  {
   "cell_type": "code",
   "execution_count": 73,
   "metadata": {},
   "outputs": [
    {
     "name": "stdout",
     "output_type": "stream",
     "text": [
      "[ 1.   13.25 25.5  37.75 50.  ]\n",
      "[ 1.  10.8 20.6 30.4 40.2]\n",
      "(array([ 1.  , 13.25, 25.5 , 37.75, 50.  ]), 12.25)\n",
      "[ 1  1  1  1  1  1  2  2  2  2  2  3  3  3  3  3  3  4  4  4  4  4  5  5\n",
      "  5  5  5  5  6  6  6  6  6  7  7  7  7  7  7  8  8  8  8  8  9  9  9  9\n",
      "  9 10]\n"
     ]
    }
   ],
   "source": [
    "import numpy as np\n",
    "# help(np.linspace)\n",
    "a = np.linspace(1,50,num=5)\n",
    "print (a)\n",
    "b = np.linspace(1,50,num=5,endpoint=False)\n",
    "print (b)\n",
    "c = np.linspace(1,50,num=5,retstep=True)\n",
    "print (c)\n",
    "d = np.linspace(1,10,dtype=int)\n",
    "print (d)"
   ]
  },
  {
   "cell_type": "code",
   "execution_count": 15,
   "metadata": {},
   "outputs": [
    {
     "name": "stdout",
     "output_type": "stream",
     "text": [
      "1\n",
      "2\n",
      "(5,)\n",
      "(2, 3)\n",
      "int32\n",
      "int32\n",
      "4\n",
      "4\n"
     ]
    }
   ],
   "source": [
    "import numpy as np\n",
    "# dimension\n",
    "a  = np.array([1,2,3,4,5])\n",
    "print (a.ndim)\n",
    "b = np.array([[1,3,3],[1,4,7]])\n",
    "print(b.ndim)\n",
    "print()\n",
    "# shape\n",
    "print(a.shape)\n",
    "print(b.shape)\n",
    "print()\n",
    "# data type\n",
    "print(a.dtype)\n",
    "print(b.dtype)\n",
    "print()\n",
    "# item size\n",
    "print(a.itemsize)\n",
    "print(b.itemsize)"
   ]
  },
  {
   "cell_type": "code",
   "execution_count": 22,
   "metadata": {},
   "outputs": [
    {
     "name": "stdout",
     "output_type": "stream",
     "text": [
      "3\n",
      "4\n",
      "7\n",
      "\n",
      "[2 3]\n",
      "[]\n",
      "[2 3 4]\n",
      "[[1 4]]\n"
     ]
    }
   ],
   "source": [
    "import numpy as np\n",
    "a  = np.array([1,2,3,4,5])\n",
    "b = np.array([[1,3,3],[1,4,7]])\n",
    "# indexing\n",
    "print(a[2])\n",
    "print(a[-2])\n",
    "print(b[1,2])\n",
    "print()\n",
    "# slicing\n",
    "print(a[1:3])\n",
    "print(a[-2:1])\n",
    "print(a[1:-1])\n",
    "print(b[1:2,0:2])"
   ]
  },
  {
   "cell_type": "code",
   "execution_count": 11,
   "metadata": {},
   "outputs": [
    {
     "name": "stdout",
     "output_type": "stream",
     "text": [
      "[3 4 5 6 7]\n",
      "[ 5 10 15 20 25]\n",
      "[ 1  4  9 16 25]\n",
      "\n",
      "[[3 5 5]\n",
      " [3 6 9]]\n",
      "[[ 5 15 15]\n",
      " [ 5 20 35]]\n",
      "[[ 1  9  9]\n",
      " [ 1 16 49]]\n",
      "\n",
      "[ 6  8 10 12 14]\n",
      "[ 5 12 21 32 45]\n"
     ]
    },
    {
     "ename": "ValueError",
     "evalue": "operands could not be broadcast together with shapes (5,) (2,3) ",
     "output_type": "error",
     "traceback": [
      "\u001b[1;31m---------------------------------------------------------------------------\u001b[0m",
      "\u001b[1;31mValueError\u001b[0m                                Traceback (most recent call last)",
      "\u001b[1;32mf:\\python practice\\Untitled-1.ipynb Cell 9\u001b[0m in \u001b[0;36m<cell line: 15>\u001b[1;34m()\u001b[0m\n\u001b[0;32m     <a href='vscode-notebook-cell:/f%3A/python%20practice/Untitled-1.ipynb#ch0000008?line=12'>13</a>\u001b[0m \u001b[39mprint\u001b[39m(a\u001b[39m+\u001b[39mc)\n\u001b[0;32m     <a href='vscode-notebook-cell:/f%3A/python%20practice/Untitled-1.ipynb#ch0000008?line=13'>14</a>\u001b[0m \u001b[39mprint\u001b[39m(a\u001b[39m*\u001b[39mc)\n\u001b[1;32m---> <a href='vscode-notebook-cell:/f%3A/python%20practice/Untitled-1.ipynb#ch0000008?line=14'>15</a>\u001b[0m \u001b[39mprint\u001b[39m(a\u001b[39m+\u001b[39;49mb)\n",
      "\u001b[1;31mValueError\u001b[0m: operands could not be broadcast together with shapes (5,) (2,3) "
     ]
    }
   ],
   "source": [
    "import numpy as np\n",
    "a  = np.array([1,2,3,4,5])\n",
    "b = np.array([[1,3,3],[1,4,7]])\n",
    "c = np.arange(5,10)\n",
    "print(a+2)\n",
    "print(a*5)\n",
    "print(a**2)\n",
    "print()\n",
    "print(b+2)\n",
    "print(b*5)\n",
    "print(b**2)\n",
    "print()\n",
    "print(a+c)\n",
    "print(a*c)\n",
    "print(a+b)"
   ]
  },
  {
   "cell_type": "code",
   "execution_count": 23,
   "metadata": {},
   "outputs": [
    {
     "name": "stdout",
     "output_type": "stream",
     "text": [
      "[0 1 2 3 4 5 6 7 8 9]\n",
      "(10,)\n",
      "[[0 1]\n",
      " [2 3]\n",
      " [4 5]\n",
      " [6 7]\n",
      " [8 9]]\n",
      "(5, 2)\n",
      "[[0 5]\n",
      " [1 6]\n",
      " [2 7]\n",
      " [3 8]\n",
      " [4 9]]\n",
      "[[0 1]\n",
      " [2 3]\n",
      " [4 5]\n",
      " [6 7]\n",
      " [8 9]]\n",
      "\n",
      "[[0 1 2 3]\n",
      " [4 5 6 7]\n",
      " [8 9 0 1]]\n"
     ]
    }
   ],
   "source": [
    "import numpy as np\n",
    "#help(np.reshape)\n",
    "a=np.arange(10)\n",
    "print(a)\n",
    "print(a.shape)\n",
    "b = np.reshape(a,(5,2))\n",
    "print(b)\n",
    "print(b.shape)\n",
    "# c = np.reshape(a,(3,4))\n",
    "c=np.reshape(a,(5,2),order=\"F\") #column wise\n",
    "print(c)\n",
    "d=np.reshape(a,(5,2),order=\"C\") #row wise\n",
    "print(d)\n",
    "print()\n",
    "# help(np.resize)\n",
    "print(np.resize(a,(3,4)))"
   ]
  },
  {
   "cell_type": "code",
   "execution_count": 36,
   "metadata": {},
   "outputs": [
    {
     "name": "stdout",
     "output_type": "stream",
     "text": [
      "[1 3 3 1 4 7]\n",
      "[1 1 3 4 3 7]\n",
      "[1 3 3 1 4 7]\n",
      "\n",
      "[[[1 2 3]\n",
      "  [4 5 6]\n",
      "  [7 8 9]]]\n",
      "(1, 3, 3)\n",
      "[1 2 3 4 5 6 7 8 9]\n",
      "[1 4 7 2 5 8 3 6 9]\n",
      "(9,)\n"
     ]
    }
   ],
   "source": [
    "import numpy as np\n",
    "a  = np.array([[[1,2,3],[4,5,6],[7,8,9]]])\n",
    "b = np.array([[1,3,3],[1,4,7]])\n",
    "print(b.flatten())\n",
    "print(b.flatten(order=\"F\"))\n",
    "print(b.flatten(order=\"C\"))\n",
    "print()\n",
    "print(a)\n",
    "print(a.shape)\n",
    "print(a.flatten())\n",
    "print(a.flatten(order=\"F\"))\n",
    "print(a.flatten().shape)\n"
   ]
  },
  {
   "cell_type": "code",
   "execution_count": 52,
   "metadata": {},
   "outputs": [
    {
     "name": "stdout",
     "output_type": "stream",
     "text": [
      "[1 2 3 4 5 6 7 8 9]\n",
      "(9,)\n",
      "[1 2 3 4 5 6 7 8 9]\n",
      "(9,)\n",
      "\n",
      "[[ 1  2]\n",
      " [ 3  4]\n",
      " [ 5  6]\n",
      " [ 7  8]\n",
      " [ 9 10]]\n",
      "(5, 2)\n",
      "[[ 1  3  5  7  9]\n",
      " [ 2  4  6  8 10]]\n",
      "(2, 5)\n",
      "[[ 1  3  5  7  9]\n",
      " [ 2  4  6  8 10]]\n",
      "(2, 5)\n",
      "[[ 1  2]\n",
      " [ 3  4]\n",
      " [ 5  6]\n",
      " [ 7  8]\n",
      " [ 9 10]]\n",
      "(5, 2)\n",
      "\n",
      "[[[ 1  2  3  4]\n",
      "  [ 5  6  7  8]\n",
      "  [ 9 10 11 12]]\n",
      "\n",
      " [[13 14 15 16]\n",
      "  [17 18 19 20]\n",
      "  [21 22 23 24]]]\n",
      "(2, 3, 4)\n",
      "[[[ 1 13]\n",
      "  [ 5 17]\n",
      "  [ 9 21]]\n",
      "\n",
      " [[ 2 14]\n",
      "  [ 6 18]\n",
      "  [10 22]]\n",
      "\n",
      " [[ 3 15]\n",
      "  [ 7 19]\n",
      "  [11 23]]\n",
      "\n",
      " [[ 4 16]\n",
      "  [ 8 20]\n",
      "  [12 24]]]\n",
      "(4, 3, 2)\n",
      "0,1,2\n",
      "[[[ 1  2  3  4]\n",
      "  [ 5  6  7  8]\n",
      "  [ 9 10 11 12]]\n",
      "\n",
      " [[13 14 15 16]\n",
      "  [17 18 19 20]\n",
      "  [21 22 23 24]]]\n",
      "(2, 3, 4)\n",
      "0,2,1\n",
      "[[[ 1  5  9]\n",
      "  [ 2  6 10]\n",
      "  [ 3  7 11]\n",
      "  [ 4  8 12]]\n",
      "\n",
      " [[13 17 21]\n",
      "  [14 18 22]\n",
      "  [15 19 23]\n",
      "  [16 20 24]]]\n",
      "(2, 4, 3)\n",
      "1,2,0\n",
      "[[[ 1 13]\n",
      "  [ 2 14]\n",
      "  [ 3 15]\n",
      "  [ 4 16]]\n",
      "\n",
      " [[ 5 17]\n",
      "  [ 6 18]\n",
      "  [ 7 19]\n",
      "  [ 8 20]]\n",
      "\n",
      " [[ 9 21]\n",
      "  [10 22]\n",
      "  [11 23]\n",
      "  [12 24]]]\n",
      "(3, 4, 2)\n",
      "1,0,2\n",
      "[[[ 1  2  3  4]\n",
      "  [13 14 15 16]]\n",
      "\n",
      " [[ 5  6  7  8]\n",
      "  [17 18 19 20]]\n",
      "\n",
      " [[ 9 10 11 12]\n",
      "  [21 22 23 24]]]\n",
      "(3, 2, 4)\n",
      "2,1,0\n",
      "[[[ 1 13]\n",
      "  [ 5 17]\n",
      "  [ 9 21]]\n",
      "\n",
      " [[ 2 14]\n",
      "  [ 6 18]\n",
      "  [10 22]]\n",
      "\n",
      " [[ 3 15]\n",
      "  [ 7 19]\n",
      "  [11 23]]\n",
      "\n",
      " [[ 4 16]\n",
      "  [ 8 20]\n",
      "  [12 24]]]\n",
      "(4, 3, 2)\n",
      "2,0,1\n",
      "[[[ 1  5  9]\n",
      "  [13 17 21]]\n",
      "\n",
      " [[ 2  6 10]\n",
      "  [14 18 22]]\n",
      "\n",
      " [[ 3  7 11]\n",
      "  [15 19 23]]\n",
      "\n",
      " [[ 4  8 12]\n",
      "  [16 20 24]]]\n",
      "(4, 2, 3)\n",
      "\n"
     ]
    }
   ],
   "source": [
    "import numpy as np\n",
    "# help(np.transpose)\n",
    "a=np.arange(1,10)\n",
    "print(a)\n",
    "print(a.shape)\n",
    "print(a.transpose())\n",
    "print(a.transpose().shape)\n",
    "print()\n",
    "b = np.arange(1,11).reshape(5,2)\n",
    "print(b)\n",
    "print(b.shape)\n",
    "print(np.transpose(b))\n",
    "print(np.transpose(b).shape)\n",
    "print(np.transpose(b,axes=(1,0)))\n",
    "print(np.transpose(b,axes=(1,0)).shape)\n",
    "print(np.transpose(b,axes=(0,1)))\n",
    "print(np.transpose(b,axes=(0,1)).shape)\n",
    "print()\n",
    "c = np.arange(1,25).reshape(2,3,4)\n",
    "print(c)\n",
    "print(c.shape)\n",
    "print(np.transpose(c))\n",
    "print(np.transpose(c).shape)\n",
    "print(\"0,1,2\")\n",
    "print(np.transpose(c,axes=(0,1,2)))\n",
    "print(np.transpose(c,axes=(0,1,2)).shape)\n",
    "print(\"0,2,1\")\n",
    "print(np.transpose(c,axes=(0,2,1)))\n",
    "print(np.transpose(c,axes=(0,2,1)).shape)\n",
    "print(\"1,2,0\")\n",
    "print(np.transpose(c,axes=(1,2,0)))\n",
    "print(np.transpose(c,axes=(1,2,0)).shape)\n",
    "print(\"1,0,2\")\n",
    "print(np.transpose(c,axes=(1,0,2)))\n",
    "print(np.transpose(c,axes=(1,0,2)).shape)\n",
    "print(\"2,1,0\")\n",
    "print(np.transpose(c,axes=(2,1,0)))\n",
    "print(np.transpose(c,axes=(2,1,0)).shape)\n",
    "print(\"2,0,1\")\n",
    "print(np.transpose(c,axes=(2,0,1)))\n",
    "print(np.transpose(c,axes=(2,0,1)).shape)\n",
    "print()\n"
   ]
  },
  {
   "cell_type": "code",
   "execution_count": 61,
   "metadata": {},
   "outputs": [
    {
     "name": "stdout",
     "output_type": "stream",
     "text": [
      "[[1 2 5]\n",
      " [3 4 6]]\n",
      "[[1 3]\n",
      " [2 4]\n",
      " [5 6]]\n",
      "[[1 3]\n",
      " [2 4]\n",
      " [5 6]]\n",
      "\n",
      "[[[ 1  2  5]\n",
      "  [ 3  4  6]]\n",
      "\n",
      " [[ 7  8  9]\n",
      "  [10 11 12]]]\n",
      "\n"
     ]
    },
    {
     "ename": "TypeError",
     "evalue": "_swapaxes_dispatcher() takes 3 positional arguments but 4 were given",
     "output_type": "error",
     "traceback": [
      "\u001b[1;31m---------------------------------------------------------------------------\u001b[0m",
      "\u001b[1;31mTypeError\u001b[0m                                 Traceback (most recent call last)",
      "\u001b[1;32mf:\\python practice\\Untitled-1.ipynb Cell 13\u001b[0m in \u001b[0;36m<cell line: 11>\u001b[1;34m()\u001b[0m\n\u001b[0;32m      <a href='vscode-notebook-cell:/f%3A/python%20practice/Untitled-1.ipynb#ch0000012?line=8'>9</a>\u001b[0m \u001b[39mprint\u001b[39m(b)\n\u001b[0;32m     <a href='vscode-notebook-cell:/f%3A/python%20practice/Untitled-1.ipynb#ch0000012?line=9'>10</a>\u001b[0m \u001b[39mprint\u001b[39m()\n\u001b[1;32m---> <a href='vscode-notebook-cell:/f%3A/python%20practice/Untitled-1.ipynb#ch0000012?line=10'>11</a>\u001b[0m \u001b[39mprint\u001b[39m(np\u001b[39m.\u001b[39;49mswapaxes(b,\u001b[39m0\u001b[39;49m,\u001b[39m2\u001b[39;49m,\u001b[39m1\u001b[39;49m))\n",
      "File \u001b[1;32m<__array_function__ internals>:179\u001b[0m, in \u001b[0;36mswapaxes\u001b[1;34m(*args, **kwargs)\u001b[0m\n",
      "\u001b[1;31mTypeError\u001b[0m: _swapaxes_dispatcher() takes 3 positional arguments but 4 were given"
     ]
    }
   ],
   "source": [
    "import numpy as np\n",
    "# help(np.swapaxes)\n",
    "a = np.array([[1,2,5],[3,4,6]])\n",
    "print(a)\n",
    "print(np.swapaxes(a,0,1))\n",
    "print(np.swapaxes(a,1,0))\n",
    "print()\n",
    "b = np.array([[[1,2,5],[3,4,6]],[[7,8,9],[10,11,12]]])\n",
    "print(b)\n",
    "print(np.swapaxes(b,0,2,1))\n"
   ]
  },
  {
   "cell_type": "code",
   "execution_count": 72,
   "metadata": {},
   "outputs": [
    {
     "name": "stdout",
     "output_type": "stream",
     "text": [
      "[0 1 2 3 4 0 1 2 3 4 5]\n",
      "[0 1 2 3 4 0 1 2 3 4 5 0 1 2 3 4 5 6]\n",
      "\n",
      "[1 2 3 4 5 6 7 8]\n",
      "\n",
      "[[1.  2.  5. ]\n",
      " [3.  4.  6. ]\n",
      " [5.  6.9 7. ]\n",
      " [7.  8.  8. ]]\n"
     ]
    }
   ],
   "source": [
    "import numpy as np\n",
    "a = np.arange(5)\n",
    "b = np.arange(6)\n",
    "c = np.arange(7)\n",
    "print(np.concatenate((a,b)))\n",
    "print(np.concatenate((a,b,c)))\n",
    "print()\n",
    "a = np.array([1,2,3,4])\n",
    "b = np.array([5,6,7,8])\n",
    "print(np.concatenate((a,b)))\n",
    "print()\n",
    "a = np.array([[1,2,5],[3,4,6]])\n",
    "b = np.array([[5,6.9,7],[7,8,8]])\n",
    "print(np.concatenate((a,b))) "
   ]
  },
  {
   "cell_type": "code",
   "execution_count": 11,
   "metadata": {},
   "outputs": [
    {
     "name": "stdout",
     "output_type": "stream",
     "text": [
      "[[1 2 5]\n",
      " [3 4 6]]\n",
      "[[5 6 7]\n",
      " [7 8 8]]\n",
      "[[ 6  8 12]\n",
      " [10 12 14]]\n",
      "\n",
      "[[ 5 12 35]\n",
      " [21 32 48]]\n",
      "[[24 32]\n",
      " [49 62]]\n"
     ]
    }
   ],
   "source": [
    "import numpy as np\n",
    "a = np.array([[1,2,5],[3,4,6]])\n",
    "b = np.array([[5,6,7],[7,8,8]])\n",
    "print(a)\n",
    "print(b)\n",
    "print(a+b)\n",
    "print()\n",
    "print(a*b)\n",
    "# print(a.dot(b))\n",
    "a = np.array([[1,2,5],[3,4,6]])\n",
    "b = np.array([[5,6],[7,8],[1,2]])\n",
    "# help(np.dot)\n",
    "print(a.dot(b))"
   ]
  },
  {
   "cell_type": "code",
   "execution_count": 14,
   "metadata": {},
   "outputs": [
    {
     "name": "stdout",
     "output_type": "stream",
     "text": [
      "[[ 7 12]\n",
      " [18 31]]\n",
      "[[ 31. -12.]\n",
      " [-18.   7.]]\n",
      "\n",
      "[0. 1.]\n",
      "[0.25 0.5  0.25]\n",
      "\n",
      "-1\n",
      "-56\n"
     ]
    }
   ],
   "source": [
    "import numpy as np \n",
    "#help(np.linalg.matrix_power)\n",
    "a = np.array([[1,2],[3,5]])\n",
    "b = np.linalg.matrix_power(a,2)\n",
    "print(b)\n",
    "c = np.linalg.matrix_power(a,-2)\n",
    "print(c)\n",
    "print()\n",
    "#help(np.linalg.solve)\n",
    "a = np.array([[3,2],[4,5]]) # 3x + 2y = 2\n",
    "b = np.array([2,5]) # 4x + 5y = 5\n",
    "n = np.linalg.solve(a,b)\n",
    "print(n)\n",
    "a = np.array([[3,2,1],[4,5,6],[4,7,2]]) # 3x + 2y + 1z = 2\n",
    "b = np.array([2,5,5]) # 4x + 5y + 6z = 5      4x + 7y + 2z = 5\n",
    "n = np.linalg.solve(a,b)\n",
    "print(n)\n",
    "print()\n",
    "#help(np.linalg.det)\n",
    "a = np.array([[1,2],[3,5]])\n",
    "print((int)(np.linalg.det(a)))\n",
    "a = np.array([[3,2,1],[4,5,6],[4,7,2]]) \n",
    "print(round(np.linalg.det(a)))    "
   ]
  }
 ],
 "metadata": {
  "kernelspec": {
   "display_name": "Python 3.9.13 64-bit",
   "language": "python",
   "name": "python3"
  },
  "language_info": {
   "codemirror_mode": {
    "name": "ipython",
    "version": 3
   },
   "file_extension": ".py",
   "mimetype": "text/x-python",
   "name": "python",
   "nbconvert_exporter": "python",
   "pygments_lexer": "ipython3",
   "version": "3.9.13"
  },
  "orig_nbformat": 4,
  "vscode": {
   "interpreter": {
    "hash": "f6246b25e200e4c5124e3e61789ac81350562f0761bbcf92ad9e48654207659c"
   }
  }
 },
 "nbformat": 4,
 "nbformat_minor": 2
}
